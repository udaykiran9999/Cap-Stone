{
 "cells": [
  {
   "cell_type": "code",
   "execution_count": 1,
   "id": "906feedd",
   "metadata": {
    "id": "906feedd"
   },
   "outputs": [],
   "source": [
    "# importing the required libraries\n",
    "\n",
    "import pandas as pd\n",
    "import matplotlib.pyplot as plt\n",
    "from matplotlib.ticker import FuncFormatter\n",
    "import numpy as np\n",
    "from sklearn.pipeline import Pipeline\n",
    "from sklearn.preprocessing import OneHotEncoder, StandardScaler\n",
    "from sklearn.metrics import mean_squared_error, r2_score\n",
    "from sklearn.compose import ColumnTransformer\n",
    "from sklearn.model_selection import RandomizedSearchCV\n",
    "from sklearn.linear_model import LinearRegression\n",
    "from scipy.stats import uniform\n",
    "from sklearn.svm import SVR\n",
    "from sklearn.neighbors import KNeighborsRegressor\n",
    "from scipy.stats import randint\n",
    "from sklearn.tree import DecisionTreeRegressor\n",
    "from sklearn.ensemble import RandomForestRegressor\n",
    "from sklearn.ensemble import GradientBoostingRegressor\n",
    "from sklearn.ensemble import StackingRegressor\n",
    "import warnings\n",
    "warnings.filterwarnings('ignore')\n",
    "from keras.models import Sequential\n",
    "from keras.layers import Dense, Dropout\n",
    "from keras.callbacks import ModelCheckpoint, EarlyStopping\n",
    "from keras.models import load_model\n",
    "from tabulate import tabulate\n",
    "from keras.metrics import R2Score"
   ]
  },
  {
   "cell_type": "code",
   "execution_count": 2,
   "id": "6e5ff969",
   "metadata": {
    "colab": {
     "base_uri": "https://localhost:8080/",
     "height": 362
    },
    "id": "6e5ff969",
    "outputId": "61f93f7e-4eb0-407f-d2df-e4e18e94ab4a"
   },
   "outputs": [
    {
     "data": {
      "text/html": [
       "<div>\n",
       "<style scoped>\n",
       "    .dataframe tbody tr th:only-of-type {\n",
       "        vertical-align: middle;\n",
       "    }\n",
       "\n",
       "    .dataframe tbody tr th {\n",
       "        vertical-align: top;\n",
       "    }\n",
       "\n",
       "    .dataframe thead th {\n",
       "        text-align: right;\n",
       "    }\n",
       "</style>\n",
       "<table border=\"1\" class=\"dataframe\">\n",
       "  <thead>\n",
       "    <tr style=\"text-align: right;\">\n",
       "      <th></th>\n",
       "      <th>Date</th>\n",
       "      <th>State</th>\n",
       "      <th>Category</th>\n",
       "      <th>Dollars</th>\n",
       "      <th>Unit sales</th>\n",
       "      <th>Dollars last year</th>\n",
       "      <th>Unit sales last year</th>\n",
       "      <th>Dollars 3 years ago</th>\n",
       "      <th>Unit sales 3 years ago</th>\n",
       "      <th>Percent change dollars 1 year</th>\n",
       "      <th>Percent change units 1 year</th>\n",
       "      <th>Percent change dollars 3 years</th>\n",
       "      <th>Percent change units 3 years</th>\n",
       "    </tr>\n",
       "  </thead>\n",
       "  <tbody>\n",
       "    <tr>\n",
       "      <th>0</th>\n",
       "      <td>2019-10-06</td>\n",
       "      <td>Alabama</td>\n",
       "      <td>Alcohol</td>\n",
       "      <td>23611285</td>\n",
       "      <td>2974221.0</td>\n",
       "      <td>22449300.0</td>\n",
       "      <td>2979065.0</td>\n",
       "      <td>NaN</td>\n",
       "      <td>NaN</td>\n",
       "      <td>5.2</td>\n",
       "      <td>-0.2</td>\n",
       "      <td>NaN</td>\n",
       "      <td>NaN</td>\n",
       "    </tr>\n",
       "    <tr>\n",
       "      <th>1</th>\n",
       "      <td>2019-10-13</td>\n",
       "      <td>Alabama</td>\n",
       "      <td>Alcohol</td>\n",
       "      <td>23220758</td>\n",
       "      <td>2895573.0</td>\n",
       "      <td>23314625.0</td>\n",
       "      <td>2978312.0</td>\n",
       "      <td>NaN</td>\n",
       "      <td>NaN</td>\n",
       "      <td>-0.4</td>\n",
       "      <td>-2.8</td>\n",
       "      <td>NaN</td>\n",
       "      <td>NaN</td>\n",
       "    </tr>\n",
       "    <tr>\n",
       "      <th>2</th>\n",
       "      <td>2019-10-20</td>\n",
       "      <td>Alabama</td>\n",
       "      <td>Alcohol</td>\n",
       "      <td>21770283</td>\n",
       "      <td>2730939.0</td>\n",
       "      <td>21070374.0</td>\n",
       "      <td>2745973.0</td>\n",
       "      <td>NaN</td>\n",
       "      <td>NaN</td>\n",
       "      <td>3.3</td>\n",
       "      <td>-0.5</td>\n",
       "      <td>NaN</td>\n",
       "      <td>NaN</td>\n",
       "    </tr>\n",
       "    <tr>\n",
       "      <th>3</th>\n",
       "      <td>2019-10-27</td>\n",
       "      <td>Alabama</td>\n",
       "      <td>Alcohol</td>\n",
       "      <td>21956558</td>\n",
       "      <td>2764970.0</td>\n",
       "      <td>20188919.0</td>\n",
       "      <td>2651957.0</td>\n",
       "      <td>NaN</td>\n",
       "      <td>NaN</td>\n",
       "      <td>8.8</td>\n",
       "      <td>4.3</td>\n",
       "      <td>NaN</td>\n",
       "      <td>NaN</td>\n",
       "    </tr>\n",
       "    <tr>\n",
       "      <th>4</th>\n",
       "      <td>2019-11-03</td>\n",
       "      <td>Alabama</td>\n",
       "      <td>Alcohol</td>\n",
       "      <td>23183482</td>\n",
       "      <td>2872683.0</td>\n",
       "      <td>22565261.0</td>\n",
       "      <td>2884813.0</td>\n",
       "      <td>NaN</td>\n",
       "      <td>NaN</td>\n",
       "      <td>2.7</td>\n",
       "      <td>-0.4</td>\n",
       "      <td>NaN</td>\n",
       "      <td>NaN</td>\n",
       "    </tr>\n",
       "  </tbody>\n",
       "</table>\n",
       "</div>"
      ],
      "text/plain": [
       "         Date    State Category   Dollars  Unit sales  Dollars last year  \\\n",
       "0  2019-10-06  Alabama  Alcohol  23611285   2974221.0         22449300.0   \n",
       "1  2019-10-13  Alabama  Alcohol  23220758   2895573.0         23314625.0   \n",
       "2  2019-10-20  Alabama  Alcohol  21770283   2730939.0         21070374.0   \n",
       "3  2019-10-27  Alabama  Alcohol  21956558   2764970.0         20188919.0   \n",
       "4  2019-11-03  Alabama  Alcohol  23183482   2872683.0         22565261.0   \n",
       "\n",
       "   Unit sales last year  Dollars 3 years ago  Unit sales 3 years ago  \\\n",
       "0             2979065.0                  NaN                     NaN   \n",
       "1             2978312.0                  NaN                     NaN   \n",
       "2             2745973.0                  NaN                     NaN   \n",
       "3             2651957.0                  NaN                     NaN   \n",
       "4             2884813.0                  NaN                     NaN   \n",
       "\n",
       "   Percent change dollars 1 year  Percent change units 1 year  \\\n",
       "0                            5.2                         -0.2   \n",
       "1                           -0.4                         -2.8   \n",
       "2                            3.3                         -0.5   \n",
       "3                            8.8                          4.3   \n",
       "4                            2.7                         -0.4   \n",
       "\n",
       "   Percent change dollars 3 years  Percent change units 3 years  \n",
       "0                             NaN                           NaN  \n",
       "1                             NaN                           NaN  \n",
       "2                             NaN                           NaN  \n",
       "3                             NaN                           NaN  \n",
       "4                             NaN                           NaN  "
      ]
     },
     "execution_count": 2,
     "metadata": {},
     "output_type": "execute_result"
    }
   ],
   "source": [
    "# Reading the excel file using pandas\n",
    "data = pd.read_excel('StateAndCategory.xlsx',header=1,skipfooter=5)\n",
    "# Displaying the first 5 rows of the data\n",
    "data.head()"
   ]
  },
  {
   "cell_type": "code",
   "execution_count": 3,
   "id": "fb53d0cc",
   "metadata": {
    "colab": {
     "base_uri": "https://localhost:8080/"
    },
    "id": "fb53d0cc",
    "outputId": "c718e9d4-0c29-4243-abf0-1be6efe9bd1a"
   },
   "outputs": [
    {
     "data": {
      "text/plain": [
       "(88924, 13)"
      ]
     },
     "execution_count": 3,
     "metadata": {},
     "output_type": "execute_result"
    }
   ],
   "source": [
    "data.shape"
   ]
  },
  {
   "cell_type": "markdown",
   "id": "c736b4b1",
   "metadata": {
    "id": "c736b4b1"
   },
   "source": [
    "The Dataset contains 88,924 records stored for 13 variables."
   ]
  },
  {
   "cell_type": "code",
   "execution_count": 4,
   "id": "a6de1f6f",
   "metadata": {
    "colab": {
     "base_uri": "https://localhost:8080/"
    },
    "id": "a6de1f6f",
    "outputId": "9a97d978-4e4e-4ef0-dbde-a4143a834553"
   },
   "outputs": [
    {
     "data": {
      "text/plain": [
       "Date                               object\n",
       "State                              object\n",
       "Category                           object\n",
       "Dollars                             int64\n",
       "Unit sales                        float64\n",
       "Dollars last year                 float64\n",
       "Unit sales last year              float64\n",
       "Dollars 3 years ago               float64\n",
       "Unit sales 3 years ago            float64\n",
       "Percent change dollars 1 year     float64\n",
       "Percent change units 1 year       float64\n",
       "Percent change dollars 3 years    float64\n",
       "Percent change units 3 years      float64\n",
       "dtype: object"
      ]
     },
     "execution_count": 4,
     "metadata": {},
     "output_type": "execute_result"
    }
   ],
   "source": [
    "# Checking the datatypes of each column\n",
    "data.dtypes"
   ]
  },
  {
   "cell_type": "code",
   "execution_count": 5,
   "id": "64b1aa21",
   "metadata": {
    "colab": {
     "base_uri": "https://localhost:8080/",
     "height": 404
    },
    "id": "64b1aa21",
    "outputId": "dbfdf812-6e8e-49d7-a451-b5de87306b61"
   },
   "outputs": [
    {
     "data": {
      "image/png": "[encoded data removed]",
      "text/plain": [
       "<Figure size 1800x600 with 1 Axes>"
      ]
     },
     "metadata": {},
     "output_type": "display_data"
    }
   ],
   "source": [
    "state_dollars = data.groupby('State')['Dollars'].sum()\n",
    "# Sorting by sum of dollars in descending order and select top 10 states\n",
    "top_10_states = state_dollars.sort_values(ascending=False).head(10)\n",
    "# Plotting bar chart\n",
    "colors = plt.cm.tab10(np.arange(len(top_10_states)))\n",
    "bars = top_10_states.plot(kind='bar', color=colors, figsize=(18, 6))\n",
    "for container in bars.containers:\n",
    "    bars.bar_label(container,fmt='%.0f',size=10)\n",
    "plt.title('Top 10 States by Total Dollars',pad=15,size=20)\n",
    "plt.xlabel('State',labelpad=15,size=15)\n",
    "plt.ylabel('Total Dollars',labelpad=15,size=15)\n",
    "plt.xticks(rotation=0)\n",
    "\n",
    "def format_ticks(x, pos):\n",
    "    return '{:,.0f}'.format(x)\n",
    "\n",
    "# Applying the formatter to the y-axis\n",
    "formatter = FuncFormatter(format_ticks)\n",
    "plt.gca().yaxis.set_major_formatter(formatter)\n",
    "plt.show()"
   ]
  },
  {
   "cell_type": "markdown",
   "id": "f06b7a9f",
   "metadata": {
    "id": "f06b7a9f"
   },
   "source": [
    "It can be observed from the above bar chart that California has the highest sales revenue while virginia stands at the bottom among the top 10 states by sales revenue."
   ]
  },
  {
   "cell_type": "code",
   "execution_count": 6,
   "id": "ff7a75dc",
   "metadata": {
    "colab": {
     "base_uri": "https://localhost:8080/",
     "height": 362
    },
    "id": "ff7a75dc",
    "outputId": "7787a36b-8807-4ba9-bd08-955859d4d8df"
   },
   "outputs": [
    {
     "data": {
      "text/html": [
       "<div>\n",
       "<style scoped>\n",
       "    .dataframe tbody tr th:only-of-type {\n",
       "        vertical-align: middle;\n",
       "    }\n",
       "\n",
       "    .dataframe tbody tr th {\n",
       "        vertical-align: top;\n",
       "    }\n",
       "\n",
       "    .dataframe thead th {\n",
       "        text-align: right;\n",
       "    }\n",
       "</style>\n",
       "<table border=\"1\" class=\"dataframe\">\n",
       "  <thead>\n",
       "    <tr style=\"text-align: right;\">\n",
       "      <th></th>\n",
       "      <th>Date</th>\n",
       "      <th>State</th>\n",
       "      <th>Category</th>\n",
       "      <th>Dollars</th>\n",
       "      <th>Unit sales</th>\n",
       "      <th>Dollars last year</th>\n",
       "      <th>Unit sales last year</th>\n",
       "      <th>Dollars 3 years ago</th>\n",
       "      <th>Unit sales 3 years ago</th>\n",
       "      <th>Percent change dollars 1 year</th>\n",
       "      <th>Percent change units 1 year</th>\n",
       "      <th>Percent change dollars 3 years</th>\n",
       "      <th>Percent change units 3 years</th>\n",
       "      <th>Year</th>\n",
       "    </tr>\n",
       "  </thead>\n",
       "  <tbody>\n",
       "    <tr>\n",
       "      <th>0</th>\n",
       "      <td>2019-10-06</td>\n",
       "      <td>Alabama</td>\n",
       "      <td>Alcohol</td>\n",
       "      <td>23611285</td>\n",
       "      <td>2974221.0</td>\n",
       "      <td>22449300.0</td>\n",
       "      <td>2979065.0</td>\n",
       "      <td>NaN</td>\n",
       "      <td>NaN</td>\n",
       "      <td>5.2</td>\n",
       "      <td>-0.2</td>\n",
       "      <td>NaN</td>\n",
       "      <td>NaN</td>\n",
       "      <td>2019</td>\n",
       "    </tr>\n",
       "    <tr>\n",
       "      <th>1</th>\n",
       "      <td>2019-10-13</td>\n",
       "      <td>Alabama</td>\n",
       "      <td>Alcohol</td>\n",
       "      <td>23220758</td>\n",
       "      <td>2895573.0</td>\n",
       "      <td>23314625.0</td>\n",
       "      <td>2978312.0</td>\n",
       "      <td>NaN</td>\n",
       "      <td>NaN</td>\n",
       "      <td>-0.4</td>\n",
       "      <td>-2.8</td>\n",
       "      <td>NaN</td>\n",
       "      <td>NaN</td>\n",
       "      <td>2019</td>\n",
       "    </tr>\n",
       "    <tr>\n",
       "      <th>2</th>\n",
       "      <td>2019-10-20</td>\n",
       "      <td>Alabama</td>\n",
       "      <td>Alcohol</td>\n",
       "      <td>21770283</td>\n",
       "      <td>2730939.0</td>\n",
       "      <td>21070374.0</td>\n",
       "      <td>2745973.0</td>\n",
       "      <td>NaN</td>\n",
       "      <td>NaN</td>\n",
       "      <td>3.3</td>\n",
       "      <td>-0.5</td>\n",
       "      <td>NaN</td>\n",
       "      <td>NaN</td>\n",
       "      <td>2019</td>\n",
       "    </tr>\n",
       "    <tr>\n",
       "      <th>3</th>\n",
       "      <td>2019-10-27</td>\n",
       "      <td>Alabama</td>\n",
       "      <td>Alcohol</td>\n",
       "      <td>21956558</td>\n",
       "      <td>2764970.0</td>\n",
       "      <td>20188919.0</td>\n",
       "      <td>2651957.0</td>\n",
       "      <td>NaN</td>\n",
       "      <td>NaN</td>\n",
       "      <td>8.8</td>\n",
       "      <td>4.3</td>\n",
       "      <td>NaN</td>\n",
       "      <td>NaN</td>\n",
       "      <td>2019</td>\n",
       "    </tr>\n",
       "    <tr>\n",
       "      <th>4</th>\n",
       "      <td>2019-11-03</td>\n",
       "      <td>Alabama</td>\n",
       "      <td>Alcohol</td>\n",
       "      <td>23183482</td>\n",
       "      <td>2872683.0</td>\n",
       "      <td>22565261.0</td>\n",
       "      <td>2884813.0</td>\n",
       "      <td>NaN</td>\n",
       "      <td>NaN</td>\n",
       "      <td>2.7</td>\n",
       "      <td>-0.4</td>\n",
       "      <td>NaN</td>\n",
       "      <td>NaN</td>\n",
       "      <td>2019</td>\n",
       "    </tr>\n",
       "  </tbody>\n",
       "</table>\n",
       "</div>"
      ],
      "text/plain": [
       "        Date    State Category   Dollars  Unit sales  Dollars last year  \\\n",
       "0 2019-10-06  Alabama  Alcohol  23611285   2974221.0         22449300.0   \n",
       "1 2019-10-13  Alabama  Alcohol  23220758   2895573.0         23314625.0   \n",
       "2 2019-10-20  Alabama  Alcohol  21770283   2730939.0         21070374.0   \n",
       "3 2019-10-27  Alabama  Alcohol  21956558   2764970.0         20188919.0   \n",
       "4 2019-11-03  Alabama  Alcohol  23183482   2872683.0         22565261.0   \n",
       "\n",
       "   Unit sales last year  Dollars 3 years ago  Unit sales 3 years ago  \\\n",
       "0             2979065.0                  NaN                     NaN   \n",
       "1             2978312.0                  NaN                     NaN   \n",
       "2             2745973.0                  NaN                     NaN   \n",
       "3             2651957.0                  NaN                     NaN   \n",
       "4             2884813.0                  NaN                     NaN   \n",
       "\n",
       "   Percent change dollars 1 year  Percent change units 1 year  \\\n",
       "0                            5.2                         -0.2   \n",
       "1                           -0.4                         -2.8   \n",
       "2                            3.3                         -0.5   \n",
       "3                            8.8                          4.3   \n",
       "4                            2.7                         -0.4   \n",
       "\n",
       "   Percent change dollars 3 years  Percent change units 3 years  Year  \n",
       "0                             NaN                           NaN  2019  \n",
       "1                             NaN                           NaN  2019  \n",
       "2                             NaN                           NaN  2019  \n",
       "3                             NaN                           NaN  2019  \n",
       "4                             NaN                           NaN  2019  "
      ]
     },
     "execution_count": 6,
     "metadata": {},
     "output_type": "execute_result"
    }
   ],
   "source": [
    "# Converting 'Date' column to datetime format\n",
    "data['Date'] = pd.to_datetime(data['Date'])\n",
    "\n",
    "# Extracting year from 'Date' column\n",
    "data['Year'] = data['Date'].dt.year\n",
    "\n",
    "# Displaying the first 5 rows of the dataset.\n",
    "data.head()"
   ]
  },
  {
   "cell_type": "code",
   "execution_count": 7,
   "id": "5342de45",
   "metadata": {
    "colab": {
     "base_uri": "https://localhost:8080/",
     "height": 466
    },
    "id": "5342de45",
    "outputId": "d2b1cc76-e01c-4bc7-dcde-40d490fcb4e8"
   },
   "outputs": [
    {
     "data": {
      "image/png": "[encoded data removed]",
      "text/plain": [
       "<Figure size 1500x600 with 1 Axes>"
      ]
     },
     "metadata": {},
     "output_type": "display_data"
    }
   ],
   "source": [
    "# Grouping by year and calculate sum of dollars and unit sales\n",
    "yearly_totals = data.groupby('Year')[['Dollars', 'Unit sales']].sum()\n",
    "\n",
    "# Plotting unstacked bar plot for top 5 categories\n",
    "ax = yearly_totals.plot(kind='bar', stacked=False,figsize=(15, 6),width=0.8)\n",
    "for container in ax.containers:\n",
    "    ax.bar_label(container,fmt='%.0f',size=10)\n",
    "\n",
    "plt.title('Yearly Total Dollars and Unit Sales',pad=15,size=15)\n",
    "plt.xlabel('Year',labelpad=15,size=15)\n",
    "plt.ylabel('Total Dollars and Total Unit Sales',labelpad=15,size=15)\n",
    "plt.legend()\n",
    "plt.xticks(rotation=0)\n",
    "\n",
    "def format_ticks(x, pos):\n",
    "    return '{:,.0f}'.format(x)\n",
    "\n",
    "# Applying the formatter to the y-axis\n",
    "formatter = FuncFormatter(format_ticks)\n",
    "plt.gca().yaxis.set_major_formatter(formatter)\n",
    "\n",
    "plt.show()"
   ]
  },
  {
   "cell_type": "markdown",
   "id": "9297ca85",
   "metadata": {
    "id": "9297ca85"
   },
   "source": [
    "It can be observed from the above chart that there is gradual increase in sales revenue during 2019 to 2022 and dipped during 2023. Also, unit sales did increase during 2019 to 2020 and then followed downward pattern till 2023."
   ]
  },
  {
   "cell_type": "code",
   "execution_count": 8,
   "id": "1d4edf6f",
   "metadata": {
    "colab": {
     "base_uri": "https://localhost:8080/",
     "height": 466
    },
    "id": "1d4edf6f",
    "outputId": "281beb5a-fe0a-4211-8441-d68ec73a8f89"
   },
   "outputs": [
    {
     "data": {
      "image/png": "[encoded data removed]",
      "text/plain": [
       "<Figure size 1500x600 with 1 Axes>"
      ]
     },
     "metadata": {},
     "output_type": "display_data"
    }
   ],
   "source": [
    "# Grouping by category and calculate sum of dollars and unit sales\n",
    "category_totals = data.groupby('Category')[['Dollars', 'Unit sales']].sum()\n",
    "\n",
    "# Getting top 5 categories based on sum of dollars\n",
    "top_5_categories = category_totals.nlargest(5, 'Dollars')\n",
    "\n",
    "# Plotting unstacked bar plot for top 5 categories\n",
    "ax = top_5_categories.plot(kind='bar', stacked=False,figsize=(15, 6),width=0.8)\n",
    "\n",
    "for container in ax.containers:\n",
    "    ax.bar_label(container,fmt='%.0f',size=10)\n",
    "\n",
    "plt.title('Top 5 Categories by Total Dollars and Unit Sales',pad=15,size=15)\n",
    "plt.xlabel('Category',labelpad=15,size=15)\n",
    "plt.ylabel('Total',labelpad=15,size=15)\n",
    "plt.xticks(rotation=0)\n",
    "\n",
    "def format_ticks(x, pos):\n",
    "    return '{:,.0f}'.format(x)\n",
    "\n",
    "# Applying the formatter to the y-axis\n",
    "formatter = FuncFormatter(format_ticks)\n",
    "plt.gca().yaxis.set_major_formatter(formatter)\n",
    "\n",
    "plt.show()"
   ]
  },
  {
   "cell_type": "markdown",
   "id": "5247cb83",
   "metadata": {
    "id": "5247cb83"
   },
   "source": [
    "It can be observed that among top 5 categories by sales revenue,<br>\n",
    "* Sales revenue is highest for commercially prepared items and lowest for diary product categories.<br>\n",
    "* Unit sales is highest for commercially prepared items and lowest for alocohol product categories."
   ]
  },
  {
   "cell_type": "code",
   "execution_count": 9,
   "id": "1d2bb301",
   "metadata": {
    "colab": {
     "base_uri": "https://localhost:8080/"
    },
    "id": "1d2bb301",
    "outputId": "ac9ff7ad-7629-4596-eb5c-69b405562886"
   },
   "outputs": [
    {
     "data": {
      "text/plain": [
       "Date                                  0\n",
       "State                                 0\n",
       "Category                              0\n",
       "Dollars                               0\n",
       "Unit sales                           13\n",
       "Dollars last year                   279\n",
       "Unit sales last year                303\n",
       "Dollars 3 years ago               49468\n",
       "Unit sales 3 years ago            49470\n",
       "Percent change dollars 1 year       279\n",
       "Percent change units 1 year         303\n",
       "Percent change dollars 3 years    49468\n",
       "Percent change units 3 years      49483\n",
       "Year                                  0\n",
       "dtype: int64"
      ]
     },
     "execution_count": 9,
     "metadata": {},
     "output_type": "execute_result"
    }
   ],
   "source": [
    "# Checking if there are any missing values in each column\n",
    "data.isnull().sum()"
   ]
  },
  {
   "cell_type": "markdown",
   "id": "06c63af0",
   "metadata": {
    "id": "06c63af0"
   },
   "source": [
    "It can be observed that except Date, State, Category, Dollars and Year columns all the other columns has missing values."
   ]
  },
  {
   "cell_type": "code",
   "execution_count": 10,
   "id": "951156c8",
   "metadata": {
    "id": "951156c8"
   },
   "outputs": [],
   "source": [
    "# Calculating median for numerical columns\n",
    "numerical_columns = data.select_dtypes(include=['number']).columns\n",
    "median_values = data[numerical_columns].median()\n",
    "\n",
    "# Replacing null values in numerical columns with their respective median values\n",
    "data[numerical_columns] = data[numerical_columns].fillna(median_values)"
   ]
  },
  {
   "cell_type": "code",
   "execution_count": 11,
   "id": "bd900a3b",
   "metadata": {
    "colab": {
     "base_uri": "https://localhost:8080/"
    },
    "id": "bd900a3b",
    "outputId": "b712c5e0-9471-4aac-f0da-0be1df10a7f1"
   },
   "outputs": [
    {
     "data": {
      "text/plain": [
       "Date                              0\n",
       "State                             0\n",
       "Category                          0\n",
       "Dollars                           0\n",
       "Unit sales                        0\n",
       "Dollars last year                 0\n",
       "Unit sales last year              0\n",
       "Dollars 3 years ago               0\n",
       "Unit sales 3 years ago            0\n",
       "Percent change dollars 1 year     0\n",
       "Percent change units 1 year       0\n",
       "Percent change dollars 3 years    0\n",
       "Percent change units 3 years      0\n",
       "Year                              0\n",
       "dtype: int64"
      ]
     },
     "execution_count": 11,
     "metadata": {},
     "output_type": "execute_result"
    }
   ],
   "source": [
    "# Checking if there are any missing values after handling missing values\n",
    "data.isnull().sum()"
   ]
  },
  {
   "cell_type": "markdown",
   "id": "ca9e1e29",
   "metadata": {
    "id": "ca9e1e29"
   },
   "source": [
    "There are no more missing values in all the columns."
   ]
  },
  {
   "cell_type": "code",
   "execution_count": 12,
   "id": "258438a7",
   "metadata": {
    "colab": {
     "base_uri": "https://localhost:8080/"
    },
    "id": "258438a7",
    "outputId": "d0b4128d-652b-49f0-f76d-97939d3315b2"
   },
   "outputs": [
    {
     "name": "stdout",
     "output_type": "stream",
     "text": [
      "Training data shape: (71139, 13)\n",
      "Testing data shape: (17785, 13)\n"
     ]
    }
   ],
   "source": [
    "# Splitting the data into train and test in the ratio of 80:20 respectively\n",
    "\n",
    "split_index = int(0.8 * len(data))\n",
    "\n",
    "# Exclude only the 'Year' column\n",
    "columns_to_use = [col for col in data.columns if col != 'Date']\n",
    "\n",
    "train_data = data[columns_to_use].iloc[:split_index]\n",
    "test_data = data[columns_to_use].iloc[split_index:]\n",
    "\n",
    "print(\"Training data shape:\", train_data.shape)\n",
    "print(\"Testing data shape:\", test_data.shape)"
   ]
  },
  {
   "cell_type": "code",
   "execution_count": 13,
   "id": "c7035212",
   "metadata": {},
   "outputs": [
    {
     "data": {
      "text/plain": [
       "Index(['State', 'Category', 'Dollars', 'Unit sales', 'Dollars last year',\n",
       "       'Unit sales last year', 'Dollars 3 years ago', 'Unit sales 3 years ago',\n",
       "       'Percent change dollars 1 year', 'Percent change units 1 year',\n",
       "       'Percent change dollars 3 years', 'Percent change units 3 years',\n",
       "       'Year'],\n",
       "      dtype='object')"
      ]
     },
     "execution_count": 13,
     "metadata": {},
     "output_type": "execute_result"
    }
   ],
   "source": [
    "train_data.columns"
   ]
  },
  {
   "cell_type": "markdown",
   "id": "de409782",
   "metadata": {},
   "source": [
    "- Training Data: Used to train machine learning models. It consists of 71,139 samples, each described by 13 features.\n",
    "- Testing Data: Used to evaluate the performance of trained models. It consists of 17,785 samples, also described by the same 13 features."
   ]
  },
  {
   "cell_type": "code",
   "execution_count": 14,
   "id": "a13570dd",
   "metadata": {},
   "outputs": [
    {
     "data": {
      "text/plain": [
       "State                              object\n",
       "Category                           object\n",
       "Dollars                             int64\n",
       "Unit sales                        float64\n",
       "Dollars last year                 float64\n",
       "Unit sales last year              float64\n",
       "Dollars 3 years ago               float64\n",
       "Unit sales 3 years ago            float64\n",
       "Percent change dollars 1 year     float64\n",
       "Percent change units 1 year       float64\n",
       "Percent change dollars 3 years    float64\n",
       "Percent change units 3 years      float64\n",
       "Year                                int32\n",
       "dtype: object"
      ]
     },
     "execution_count": 14,
     "metadata": {},
     "output_type": "execute_result"
    }
   ],
   "source": [
    "train_data.dtypes"
   ]
  },
  {
   "cell_type": "code",
   "execution_count": 15,
   "id": "698da334",
   "metadata": {
    "id": "698da334"
   },
   "outputs": [],
   "source": [
    "# Applying log_10 to the target values.\n",
    "\n",
    "y_train =  np.log10(train_data['Unit sales'].values)\n",
    "y_test  =  np.log10(test_data['Unit sales'].values)"
   ]
  },
  {
   "cell_type": "code",
   "execution_count": 16,
   "id": "34d497c7",
   "metadata": {
    "id": "34d497c7"
   },
   "outputs": [],
   "source": [
    "# Dropping the unit sales from the data since its a traget column\n",
    "# Dropping 'State' and 'Category' categorical columns and 'Year' Column\n",
    "\n",
    "X_train = train_data.drop(['Unit sales','State','Category','Year'],axis=1)\n",
    "X_test  = test_data.drop(['Unit sales','State','Category','Year'],axis=1)"
   ]
  },
  {
   "cell_type": "code",
   "execution_count": 17,
   "id": "47b5c1b7",
   "metadata": {
    "id": "47b5c1b7"
   },
   "outputs": [],
   "source": [
    "# Defining preprocessing steps for numerical columns\n",
    "preprocessor = Pipeline([('scaler', StandardScaler())]) # Standardizing features"
   ]
  },
  {
   "cell_type": "code",
   "execution_count": 18,
   "id": "MDN4nLppRvGn",
   "metadata": {
    "colab": {
     "base_uri": "https://localhost:8080/",
     "height": 164
    },
    "id": "MDN4nLppRvGn",
    "outputId": "78e15114-db53-4d4d-dbc8-6370104132a3"
   },
   "outputs": [
    {
     "data": {
      "text/html": [
       "<div>\n",
       "<style scoped>\n",
       "    .dataframe tbody tr th:only-of-type {\n",
       "        vertical-align: middle;\n",
       "    }\n",
       "\n",
       "    .dataframe tbody tr th {\n",
       "        vertical-align: top;\n",
       "    }\n",
       "\n",
       "    .dataframe thead th {\n",
       "        text-align: right;\n",
       "    }\n",
       "</style>\n",
       "<table border=\"1\" class=\"dataframe\">\n",
       "  <thead>\n",
       "    <tr style=\"text-align: right;\">\n",
       "      <th></th>\n",
       "      <th>Dollars</th>\n",
       "      <th>Dollars last year</th>\n",
       "      <th>Unit sales last year</th>\n",
       "      <th>Dollars 3 years ago</th>\n",
       "      <th>Unit sales 3 years ago</th>\n",
       "      <th>Percent change dollars 1 year</th>\n",
       "      <th>Percent change units 1 year</th>\n",
       "      <th>Percent change dollars 3 years</th>\n",
       "      <th>Percent change units 3 years</th>\n",
       "    </tr>\n",
       "  </thead>\n",
       "  <tbody>\n",
       "    <tr>\n",
       "      <th>0</th>\n",
       "      <td>23611285</td>\n",
       "      <td>22449300.0</td>\n",
       "      <td>2979065.0</td>\n",
       "      <td>12730660.5</td>\n",
       "      <td>4163512.0</td>\n",
       "      <td>5.2</td>\n",
       "      <td>-0.2</td>\n",
       "      <td>22.6</td>\n",
       "      <td>-0.1</td>\n",
       "    </tr>\n",
       "    <tr>\n",
       "      <th>1</th>\n",
       "      <td>23220758</td>\n",
       "      <td>23314625.0</td>\n",
       "      <td>2978312.0</td>\n",
       "      <td>12730660.5</td>\n",
       "      <td>4163512.0</td>\n",
       "      <td>-0.4</td>\n",
       "      <td>-2.8</td>\n",
       "      <td>22.6</td>\n",
       "      <td>-0.1</td>\n",
       "    </tr>\n",
       "  </tbody>\n",
       "</table>\n",
       "</div>"
      ],
      "text/plain": [
       "    Dollars  Dollars last year  Unit sales last year  Dollars 3 years ago  \\\n",
       "0  23611285         22449300.0             2979065.0           12730660.5   \n",
       "1  23220758         23314625.0             2978312.0           12730660.5   \n",
       "\n",
       "   Unit sales 3 years ago  Percent change dollars 1 year  \\\n",
       "0               4163512.0                            5.2   \n",
       "1               4163512.0                           -0.4   \n",
       "\n",
       "   Percent change units 1 year  Percent change dollars 3 years  \\\n",
       "0                         -0.2                            22.6   \n",
       "1                         -2.8                            22.6   \n",
       "\n",
       "   Percent change units 3 years  \n",
       "0                          -0.1  \n",
       "1                          -0.1  "
      ]
     },
     "execution_count": 18,
     "metadata": {},
     "output_type": "execute_result"
    }
   ],
   "source": [
    "X_train.head(2)"
   ]
  },
  {
   "cell_type": "markdown",
   "id": "FBVuHs8rR-fk",
   "metadata": {
    "id": "FBVuHs8rR-fk"
   },
   "source": [
    "So, I have considered only the numerical columns for modelling which are shown as below<br>\n",
    "* Dollars\n",
    "* Dollars last year\n",
    "* Unit Sales Last year\n",
    "* Dollars 3 years ago\n",
    "* Unit Sales 3 years ago\n",
    "* Percent change dollars 1 year\n",
    "* Percent change units 1 year\n",
    "* Percent change dollars 3 years\n",
    "* Percent change units 3 years"
   ]
  },
  {
   "cell_type": "code",
   "execution_count": 19,
   "id": "1b8189a6",
   "metadata": {},
   "outputs": [
    {
     "ename": "NameError",
     "evalue": "name 'correlation_matrix' is not defined",
     "output_type": "error",
     "traceback": [
      "\u001b[0;31m---------------------------------------------------------------------------\u001b[0m",
      "\u001b[0;31mNameError\u001b[0m                                 Traceback (most recent call last)",
      "Cell \u001b[0;32mIn[19], line 5\u001b[0m\n\u001b[1;32m      2\u001b[0m plt\u001b[38;5;241m.\u001b[39mfigure(figsize\u001b[38;5;241m=\u001b[39m(\u001b[38;5;241m12\u001b[39m, \u001b[38;5;241m10\u001b[39m))\n\u001b[1;32m      4\u001b[0m \u001b[38;5;66;03m# Generate a heatmap\u001b[39;00m\n\u001b[0;32m----> 5\u001b[0m sns\u001b[38;5;241m.\u001b[39mheatmap(\u001b[43mcorrelation_matrix\u001b[49m, annot\u001b[38;5;241m=\u001b[39m\u001b[38;5;28;01mTrue\u001b[39;00m, fmt\u001b[38;5;241m=\u001b[39m\u001b[38;5;124m\"\u001b[39m\u001b[38;5;124m.2f\u001b[39m\u001b[38;5;124m\"\u001b[39m, cmap\u001b[38;5;241m=\u001b[39m\u001b[38;5;124m'\u001b[39m\u001b[38;5;124mcoolwarm\u001b[39m\u001b[38;5;124m'\u001b[39m, cbar\u001b[38;5;241m=\u001b[39m\u001b[38;5;28;01mTrue\u001b[39;00m, square\u001b[38;5;241m=\u001b[39m\u001b[38;5;28;01mTrue\u001b[39;00m)\n\u001b[1;32m      7\u001b[0m \u001b[38;5;66;03m# Set titles and labels\u001b[39;00m\n\u001b[1;32m      8\u001b[0m plt\u001b[38;5;241m.\u001b[39mtitle(\u001b[38;5;124m'\u001b[39m\u001b[38;5;124mCorrelation Matrix Heatmap\u001b[39m\u001b[38;5;124m'\u001b[39m)\n",
      "\u001b[0;31mNameError\u001b[0m: name 'correlation_matrix' is not defined"
     ]
    },
    {
     "data": {
      "text/plain": [
       "<Figure size 1200x1000 with 0 Axes>"
      ]
     },
     "metadata": {},
     "output_type": "display_data"
    }
   ],
   "source": [
    "import seaborn as sns\n",
    "plt.figure(figsize=(12, 10))\n",
    "\n",
    "# Generate a heatmap\n",
    "sns.heatmap(correlation_matrix, annot=True, fmt=\".2f\", cmap='coolwarm', cbar=True, square=True)\n",
    "\n",
    "# Set titles and labels\n",
    "plt.title('Correlation Matrix Heatmap')\n",
    "plt.xlabel('Variables')\n",
    "plt.ylabel('Variables')\n",
    "\n",
    "# Show the plot\n",
    "plt.show()"
   ]
  },
  {
   "cell_type": "code",
   "execution_count": 20,
   "id": "a1b34762",
   "metadata": {},
   "outputs": [
    {
     "ename": "NameError",
     "evalue": "name 'correlation_matrix' is not defined",
     "output_type": "error",
     "traceback": [
      "\u001b[0;31m---------------------------------------------------------------------------\u001b[0m",
      "\u001b[0;31mNameError\u001b[0m                                 Traceback (most recent call last)",
      "Cell \u001b[0;32mIn[20], line 7\u001b[0m\n\u001b[1;32m      1\u001b[0m \u001b[38;5;28;01mimport\u001b[39;00m \u001b[38;5;21;01mmatplotlib\u001b[39;00m\u001b[38;5;21;01m.\u001b[39;00m\u001b[38;5;21;01mpyplot\u001b[39;00m \u001b[38;5;28;01mas\u001b[39;00m \u001b[38;5;21;01mplt\u001b[39;00m\n\u001b[1;32m      3\u001b[0m \u001b[38;5;66;03m# Assuming you have a correlation matrix called 'correlation_matrix'\u001b[39;00m\n\u001b[1;32m      4\u001b[0m \u001b[38;5;66;03m# Replace 'correlation_matrix' with the name of your actual correlation matrix variable\u001b[39;00m\n\u001b[1;32m      5\u001b[0m \n\u001b[1;32m      6\u001b[0m \u001b[38;5;66;03m# Create a heatmap plot of the correlation matrix\u001b[39;00m\n\u001b[0;32m----> 7\u001b[0m plt\u001b[38;5;241m.\u001b[39mimshow(\u001b[43mcorrelation_matrix\u001b[49m, cmap\u001b[38;5;241m=\u001b[39m\u001b[38;5;124m'\u001b[39m\u001b[38;5;124mcoolwarm\u001b[39m\u001b[38;5;124m'\u001b[39m, interpolation\u001b[38;5;241m=\u001b[39m\u001b[38;5;124m'\u001b[39m\u001b[38;5;124mnearest\u001b[39m\u001b[38;5;124m'\u001b[39m)\n\u001b[1;32m      8\u001b[0m plt\u001b[38;5;241m.\u001b[39mcolorbar()\n\u001b[1;32m      9\u001b[0m plt\u001b[38;5;241m.\u001b[39mtitle(\u001b[38;5;124m'\u001b[39m\u001b[38;5;124mCorrelation Matrix\u001b[39m\u001b[38;5;124m'\u001b[39m)\n",
      "\u001b[0;31mNameError\u001b[0m: name 'correlation_matrix' is not defined"
     ]
    }
   ],
   "source": [
    "import matplotlib.pyplot as plt\n",
    "\n",
    "# Assuming you have a correlation matrix called 'correlation_matrix'\n",
    "# Replace 'correlation_matrix' with the name of your actual correlation matrix variable\n",
    "\n",
    "# Create a heatmap plot of the correlation matrix\n",
    "plt.imshow(correlation_matrix, cmap='coolwarm', interpolation='nearest')\n",
    "plt.colorbar()\n",
    "plt.title('Correlation Matrix')\n",
    "plt.xticks(ticks=range(len(correlation_matrix)), labels=correlation_matrix.columns, rotation=90)\n",
    "plt.yticks(ticks=range(len(correlation_matrix)), labels=correlation_matrix.index)\n",
    "plt.show()\n"
   ]
  },
  {
   "cell_type": "code",
   "execution_count": 21,
   "id": "960fdcd7",
   "metadata": {
    "colab": {
     "base_uri": "https://localhost:8080/"
    },
    "id": "960fdcd7",
    "outputId": "43e466f5-e59c-44be-8826-f436ad79a485"
   },
   "outputs": [
    {
     "name": "stdout",
     "output_type": "stream",
     "text": [
      "Fitting 2 folds for each of 2 candidates, totalling 4 fits\n",
      "[CV] END .............................model__fit_intercept=1; total time=   0.0s\n",
      "[CV] END .............................model__fit_intercept=1; total time=   0.0s\n",
      "[CV] END .............................model__fit_intercept=0; total time=   0.0s\n",
      "[CV] END .............................model__fit_intercept=0; total time=   0.0s\n",
      "\n",
      "\n",
      "Mean Squared Error on train data: 0.18070367425962833\n",
      "Mean Squared Error on test data : 0.552785032425567\n",
      "\n",
      "\n",
      "R2 Score on train data: 0.5201655263365913\n",
      "R2 Score on test data : 0.14686006763834403\n"
     ]
    }
   ],
   "source": [
    "\n",
    "LR = LinearRegression()\n",
    "\n",
    "# Creating pipeline\n",
    "pipeline = Pipeline([('preprocessor', preprocessor),  # Preprocessing\n",
    "                     ('model', LR) ])  # Linear Regression model\n",
    "\n",
    "# Hyperparameters\n",
    "param_distributions = {'model__fit_intercept':[1,0]}\n",
    "\n",
    "# Tuning using random search cv\n",
    "random_search = RandomizedSearchCV(pipeline, param_distributions, n_iter=3, cv=2,\n",
    "                                   scoring='neg_mean_squared_error', random_state=42, verbose=2)\n",
    "\n",
    "# Fitting RandomizedSearchCV on training data\n",
    "random_search.fit(X_train, y_train)\n",
    "\n",
    "# Get best model from RandomizedSearchCV\n",
    "best_model_lr = random_search.best_estimator_\n",
    "\n",
    "# Predict on train and test data\n",
    "y_train_pred = best_model_lr.predict(X_train)\n",
    "y_test_pred  = best_model_lr.predict(X_test)\n",
    "\n",
    "# Calculating mean squared error on train and test data\n",
    "mse_train = mean_squared_error(y_train, y_train_pred)\n",
    "mse_test  = mean_squared_error(y_test, y_test_pred)\n",
    "\n",
    "# Calculating R2 Score for train and test data\n",
    "r2_train = r2_score(y_train, y_train_pred)\n",
    "r2_test  = r2_score(y_test, y_test_pred)\n",
    "\n",
    "print('\\n')\n",
    "print(\"Mean Squared Error on train data:\", mse_train)\n",
    "print(\"Mean Squared Error on test data :\", mse_test)\n",
    "print('\\n')\n",
    "print(\"R2 Score on train data:\", r2_train)\n",
    "print(\"R2 Score on test data :\", r2_test)"
   ]
  },
  {
   "cell_type": "markdown",
   "id": "e51fc79f",
   "metadata": {},
   "source": [
    "- The MSE values are relatively small, indicating that the model's predictions are somewhat close to the actual values.\n",
    "- However, the R2 Score on the test data is quite low, suggesting that the model may not be capturing much of the variability in the data.\n",
    "- We need to enhance the performance of the linear regression model by feature engineering to create more informative features or transform existing ones.\n"
   ]
  },
  {
   "cell_type": "code",
   "execution_count": 22,
   "id": "6dc12202",
   "metadata": {
    "colab": {
     "base_uri": "https://localhost:8080/"
    },
    "id": "6dc12202",
    "outputId": "7343bd3f-b61c-4a13-fbf4-6d4b11a2bc65"
   },
   "outputs": [
    {
     "name": "stdout",
     "output_type": "stream",
     "text": [
      "Fitting 2 folds for each of 3 candidates, totalling 6 fits\n",
      "[CV] END model__C=3.745401188473625, model__epsilon=0.9507143064099162, model__gamma=0.7319939418114051; total time=   0.8s\n",
      "[CV] END model__C=3.745401188473625, model__epsilon=0.9507143064099162, model__gamma=0.7319939418114051; total time=   1.2s\n",
      "[CV] END model__C=5.986584841970366, model__epsilon=0.15601864044243652, model__gamma=0.15599452033620265; total time=   6.3s\n",
      "[CV] END model__C=5.986584841970366, model__epsilon=0.15601864044243652, model__gamma=0.15599452033620265; total time=   7.4s\n",
      "[CV] END model__C=0.5808361216819946, model__epsilon=0.8661761457749352, model__gamma=0.6011150117432088; total time=   0.8s\n",
      "[CV] END model__C=0.5808361216819946, model__epsilon=0.8661761457749352, model__gamma=0.6011150117432088; total time=   1.4s\n",
      "\n",
      "\n",
      "Mean Squared Error on train data: 0.01705866566837682\n",
      "Mean Squared Error on test data : 0.05960125147543459\n",
      "\n",
      "\n",
      "R2 Score on train data: 0.9547029915361585\n",
      "R2 Score on test data : 0.9080144999054961\n"
     ]
    }
   ],
   "source": [
    "# 2. Support Vector Regression\n",
    "\n",
    "svr = SVR()\n",
    "\n",
    "# Creating pipeline\n",
    "pipeline = Pipeline([('preprocessor', preprocessor),  # Preprocessing\n",
    "                     ('model', svr)  ])\n",
    "\n",
    "# Hyperparameters\n",
    "param_distributions = { 'model__C': uniform(loc=0, scale=10),  # Penalty parameter C\n",
    "                        'model__gamma': uniform(loc=0, scale=1),  # Kernel coefficient gamma\n",
    "                        'model__epsilon': uniform(loc=0, scale=1),  # Epsilon in epsilon-SVR\n",
    "                       }\n",
    "\n",
    "# Tuning using random search cv\n",
    "random_search = RandomizedSearchCV(pipeline, param_distributions, n_iter=3, cv=2,\n",
    "                                   scoring='neg_mean_squared_error', random_state=42, verbose=2)\n",
    "\n",
    "# Fitting RandomizedSearchCV on training data\n",
    "random_search.fit(X_train, y_train)\n",
    "\n",
    "# Get best model from RandomizedSearchCV\n",
    "best_model_svr = random_search.best_estimator_\n",
    "\n",
    "# Predict on train and test data\n",
    "y_train_pred = best_model_svr.predict(X_train)\n",
    "y_test_pred  = best_model_svr.predict(X_test)\n",
    "\n",
    "# Calculating mean squared error on train and test data\n",
    "mse_train = mean_squared_error(y_train, y_train_pred)\n",
    "mse_test  = mean_squared_error(y_test, y_test_pred)\n",
    "\n",
    "# Calculating R2 Score for train and test data\n",
    "r2_train = r2_score(y_train, y_train_pred)\n",
    "r2_test  = r2_score(y_test, y_test_pred)\n",
    "\n",
    "print('\\n')\n",
    "print(\"Mean Squared Error on train data:\", mse_train)\n",
    "print(\"Mean Squared Error on test data :\", mse_test)\n",
    "print('\\n')\n",
    "print(\"R2 Score on train data:\", r2_train)\n",
    "print(\"R2 Score on test data :\", r2_test)"
   ]
  },
  {
   "cell_type": "code",
   "execution_count": 23,
   "id": "fd930b2c",
   "metadata": {
    "colab": {
     "base_uri": "https://localhost:8080/"
    },
    "id": "fd930b2c",
    "outputId": "24e40c9c-51ae-40db-fc82-5c34a92fbd6a"
   },
   "outputs": [
    {
     "name": "stdout",
     "output_type": "stream",
     "text": [
      "Fitting 2 folds for each of 3 candidates, totalling 6 fits\n",
      "[CV] END ...............................model__n_neighbors=7; total time=   0.5s\n",
      "[CV] END ...............................model__n_neighbors=7; total time=   0.5s\n",
      "[CV] END ..............................model__n_neighbors=15; total time=   0.6s\n",
      "[CV] END ..............................model__n_neighbors=15; total time=   0.6s\n",
      "[CV] END ..............................model__n_neighbors=11; total time=   0.5s\n",
      "[CV] END ..............................model__n_neighbors=11; total time=   0.5s\n",
      "\n",
      "\n",
      "Mean Squared Error on train data: 0.013486017147630787\n",
      "Mean Squared Error on test data : 0.10856875061589494\n",
      "\n",
      "\n",
      "R2 Score on train data: 0.9641896825487247\n",
      "R2 Score on test data : 0.8324405851753844\n"
     ]
    }
   ],
   "source": [
    "# 3. K Nearest Neighbors\n",
    "\n",
    "knn = KNeighborsRegressor()\n",
    "\n",
    "# Creating pipeline\n",
    "pipeline = Pipeline([('preprocessor', preprocessor),  # Preprocessing\n",
    "                     ('model', knn)])\n",
    "# Hyperparameters\n",
    "param_distributions = {'model__n_neighbors': randint(1, 20)} # number of neighbors\n",
    "\n",
    "# Tuning using random search cv\n",
    "random_search = RandomizedSearchCV(pipeline, param_distributions, n_iter=3, cv=2,\n",
    "                                   scoring='neg_mean_squared_error', random_state=42, verbose=2)\n",
    "# Fitting RandomizedSearchCV on training data\n",
    "random_search.fit(X_train, y_train)\n",
    "\n",
    "# Get best model from RandomizedSearchCV\n",
    "best_model_knn = random_search.best_estimator_\n",
    "\n",
    "# Predict on train and test data\n",
    "y_train_pred = best_model_knn.predict(X_train)\n",
    "y_test_pred  = best_model_knn.predict(X_test)\n",
    "\n",
    "# Calculating mean squared error on train and test data\n",
    "mse_train = mean_squared_error(y_train, y_train_pred)\n",
    "mse_test  = mean_squared_error(y_test, y_test_pred)\n",
    "\n",
    "# Calculating R2 Score for train and test data\n",
    "r2_train = r2_score(y_train, y_train_pred)\n",
    "r2_test  = r2_score(y_test, y_test_pred)\n",
    "\n",
    "print('\\n')\n",
    "print(\"Mean Squared Error on train data:\", mse_train)\n",
    "print(\"Mean Squared Error on test data :\", mse_test)\n",
    "print('\\n')\n",
    "print(\"R2 Score on train data:\", r2_train)\n",
    "print(\"R2 Score on test data :\", r2_test)"
   ]
  },
  {
   "cell_type": "code",
   "execution_count": 24,
   "id": "8e7208a1",
   "metadata": {
    "colab": {
     "base_uri": "https://localhost:8080/"
    },
    "id": "8e7208a1",
    "outputId": "63f04139-ae6b-488e-f9a0-0b5174e11c9c"
   },
   "outputs": [
    {
     "name": "stdout",
     "output_type": "stream",
     "text": [
      "Fitting 2 folds for each of 3 candidates, totalling 6 fits\n",
      "[CV] END model__max_depth=7, model__min_samples_leaf=15, model__min_samples_split=12; total time=   0.1s\n",
      "[CV] END model__max_depth=7, model__min_samples_leaf=15, model__min_samples_split=12; total time=   0.1s\n",
      "[CV] END model__max_depth=8, model__min_samples_leaf=7, model__min_samples_split=12; total time=   0.1s\n",
      "[CV] END model__max_depth=8, model__min_samples_leaf=7, model__min_samples_split=12; total time=   0.1s\n",
      "[CV] END model__max_depth=11, model__min_samples_leaf=4, model__min_samples_split=9; total time=   0.2s\n",
      "[CV] END model__max_depth=11, model__min_samples_leaf=4, model__min_samples_split=9; total time=   0.2s\n",
      "\n",
      "\n",
      "Mean Squared Error on train data: 0.0008302876184758113\n",
      "Mean Squared Error on test data : 0.006441262370396965\n",
      "\n",
      "\n",
      "R2 Score on train data: 0.9977952821156908\n",
      "R2 Score on test data : 0.9900588875952533\n"
     ]
    }
   ],
   "source": [
    "# 4. Decision Tree Regressor\n",
    "\n",
    "dt = DecisionTreeRegressor()\n",
    "\n",
    "# Creating pipeline\n",
    "pipeline = Pipeline([('preprocessor', preprocessor),  # Preprocessing\n",
    "                     ('model', dt)])\n",
    "\n",
    "# Hyperparameters\n",
    "param_distributions = {'model__max_depth': randint(1, 20),  # Maximum depth of the tree\n",
    "    'model__min_samples_split': randint(2, 20),  # Minimum number of samples required to split a node\n",
    "    'model__min_samples_leaf': randint(1, 20),  # Minimum number of samples required to form a leaf node\n",
    "                      }\n",
    "\n",
    "# Tuning using random search cv\n",
    "random_search = RandomizedSearchCV(pipeline, param_distributions, n_iter=3, cv=2,\n",
    "                                   scoring='neg_mean_squared_error', random_state=42, verbose=2)\n",
    "\n",
    "# Fitting RandomizedSearchCV on training data\n",
    "random_search.fit(X_train, y_train)\n",
    "\n",
    "# Get best model from RandomizedSearchCV\n",
    "best_model_dt = random_search.best_estimator_\n",
    "\n",
    "# Predict on train and test data\n",
    "y_train_pred = best_model_dt.predict(X_train)\n",
    "y_test_pred  = best_model_dt.predict(X_test)\n",
    "\n",
    "# Calculating mean squared error on train and test data\n",
    "mse_train = mean_squared_error(y_train, y_train_pred)\n",
    "mse_test  = mean_squared_error(y_test, y_test_pred)\n",
    "\n",
    "# Calculating R2 Score for train and test data\n",
    "r2_train = r2_score(y_train, y_train_pred)\n",
    "r2_test  = r2_score(y_test, y_test_pred)\n",
    "\n",
    "print('\\n')\n",
    "print(\"Mean Squared Error on train data:\", mse_train)\n",
    "print(\"Mean Squared Error on test data :\", mse_test)\n",
    "print('\\n')\n",
    "print(\"R2 Score on train data:\", r2_train)\n",
    "print(\"R2 Score on test data :\", r2_test)"
   ]
  },
  {
   "cell_type": "markdown",
   "id": "02f90985",
   "metadata": {
    "id": "02f90985"
   },
   "source": [
    "### Modelling 2"
   ]
  },
  {
   "cell_type": "code",
   "execution_count": 25,
   "id": "558bd6ec",
   "metadata": {
    "colab": {
     "base_uri": "https://localhost:8080/"
    },
    "id": "558bd6ec",
    "outputId": "ec0f64aa-8a6c-45bf-cfbb-78ed699db9e2"
   },
   "outputs": [
    {
     "name": "stdout",
     "output_type": "stream",
     "text": [
      "Fitting 2 folds for each of 3 candidates, totalling 6 fits\n",
      "[CV] END model__bootstrap=True, model__max_depth=15, model__min_samples_split=12, model__n_estimators=121; total time=  16.1s\n",
      "[CV] END model__bootstrap=True, model__max_depth=15, model__min_samples_split=12, model__n_estimators=121; total time=  15.5s\n",
      "[CV] END model__bootstrap=True, model__max_depth=7, model__min_samples_split=12, model__n_estimators=137; total time=  10.4s\n",
      "[CV] END model__bootstrap=True, model__max_depth=7, model__min_samples_split=12, model__n_estimators=137; total time=  10.3s\n",
      "[CV] END model__bootstrap=True, model__max_depth=4, model__min_samples_split=9, model__n_estimators=180; total time=   8.1s\n",
      "[CV] END model__bootstrap=True, model__max_depth=4, model__min_samples_split=9, model__n_estimators=180; total time=   8.2s\n",
      "\n",
      "\n",
      "Mean Squared Error on train data: 3.378219689704445e-05\n",
      "Mean Squared Error on test data : 0.008169531123072116\n",
      "\n",
      "\n",
      "R2 Score on train data: 0.9999102958878191\n",
      "R2 Score on test data : 0.9873915666652884\n"
     ]
    }
   ],
   "source": [
    "# 5. Bagging - Random Forest Regressor\n",
    "\n",
    "rf = RandomForestRegressor()\n",
    "\n",
    "# Creating pipeline\n",
    "pipeline = Pipeline([('preprocessor', preprocessor),  # Preprocessing\n",
    "                     ('model', rf)])\n",
    "\n",
    "# Hyperparameters\n",
    "param_distributions = {\n",
    "    'model__n_estimators': randint(50, 200),  # Number of trees in the forest\n",
    "    'model__max_depth': randint(1, 20),  # Maximum depth of the trees\n",
    "    'model__min_samples_split': randint(2, 20),  # Minimum number of samples required to split a node\n",
    "    'model__bootstrap': [True, False],  # Whether to bootstrap samples when building trees\n",
    "                      }\n",
    "\n",
    "# Tuning using random search cv\n",
    "random_search = RandomizedSearchCV(pipeline, param_distributions, n_iter=3, cv=2,\n",
    "                                   scoring='neg_mean_squared_error', random_state=42, verbose=2)\n",
    "\n",
    "# Fitting RandomizedSearchCV on training data\n",
    "random_search.fit(X_train, y_train)\n",
    "\n",
    "# Get best model from RandomizedSearchCV\n",
    "best_model_rf = random_search.best_estimator_\n",
    "\n",
    "# Predict on train and test data\n",
    "y_train_pred = best_model_rf.predict(X_train)\n",
    "y_test_pred  = best_model_rf.predict(X_test)\n",
    "\n",
    "# Calculating mean squared error on train and test data\n",
    "mse_train = mean_squared_error(y_train, y_train_pred)\n",
    "mse_test  = mean_squared_error(y_test, y_test_pred)\n",
    "\n",
    "# Calculating R2 Score for train and test data\n",
    "r2_train = r2_score(y_train, y_train_pred)\n",
    "r2_test  = r2_score(y_test, y_test_pred)\n",
    "\n",
    "print('\\n')\n",
    "print(\"Mean Squared Error on train data:\", mse_train)\n",
    "print(\"Mean Squared Error on test data :\", mse_test)\n",
    "print('\\n')\n",
    "print(\"R2 Score on train data:\", r2_train)\n",
    "print(\"R2 Score on test data :\", r2_test)"
   ]
  },
  {
   "cell_type": "code",
   "execution_count": 26,
   "id": "7c9866d3",
   "metadata": {
    "colab": {
     "base_uri": "https://localhost:8080/"
    },
    "id": "7c9866d3",
    "outputId": "c7af6562-b0a2-417b-c33e-f81de14724ea"
   },
   "outputs": [
    {
     "name": "stdout",
     "output_type": "stream",
     "text": [
      "Fitting 2 folds for each of 3 candidates, totalling 6 fits\n",
      "[CV] END model__learning_rate=0.12236203565420874, model__max_depth=8, model__n_estimators=70; total time=   9.4s\n",
      "[CV] END model__learning_rate=0.12236203565420874, model__max_depth=8, model__n_estimators=70; total time=   9.3s\n",
      "[CV] END model__learning_rate=0.05680559213273095, model__max_depth=3, model__n_estimators=124; total time=   6.6s\n",
      "[CV] END model__learning_rate=0.05680559213273095, model__max_depth=3, model__n_estimators=124; total time=   6.6s\n",
      "[CV] END model__learning_rate=0.14777466758976016, model__max_depth=5, model__n_estimators=149; total time=  13.2s\n",
      "[CV] END model__learning_rate=0.14777466758976016, model__max_depth=5, model__n_estimators=149; total time=  13.2s\n",
      "\n",
      "\n",
      "Mean Squared Error on train data: 5.622092242237714e-05\n",
      "Mean Squared Error on test data : 0.005288459820045348\n",
      "\n",
      "\n",
      "R2 Score on train data: 0.9998507128489228\n",
      "R2 Score on test data : 0.9918380636440652\n"
     ]
    }
   ],
   "source": [
    "# 6. Boosting - Gradient Boost Regressor\n",
    "\n",
    "xgb = GradientBoostingRegressor()\n",
    "\n",
    "# Creating pipeline\n",
    "pipeline = Pipeline([('preprocessor', preprocessor),  # Preprocessing\n",
    "                     ('model', xgb)])\n",
    "\n",
    "# Hyperparameters\n",
    "param_distributions = {\n",
    "    'model__n_estimators': randint(50, 200),  # Number of boosting stages\n",
    "    'model__learning_rate': uniform(0.01, 0.3),  # Step size shrinkage\n",
    "    'model__max_depth': randint(1, 10),  # Maximum depth of the individual trees\n",
    "    }\n",
    "\n",
    "# Tuning using random search cv\n",
    "random_search = RandomizedSearchCV(pipeline, param_distributions, n_iter=3, cv=2,\n",
    "                                   scoring='neg_mean_squared_error', random_state=42, verbose=2)\n",
    "\n",
    "# Fitting RandomizedSearchCV on training data\n",
    "random_search.fit(X_train, y_train)\n",
    "\n",
    "# Get best model from RandomizedSearchCV\n",
    "best_model_xgb = random_search.best_estimator_\n",
    "\n",
    "# Predict on train and test data\n",
    "y_train_pred = best_model_xgb.predict(X_train)\n",
    "y_test_pred  = best_model_xgb.predict(X_test)\n",
    "\n",
    "# Calculating mean squared error on train and test data\n",
    "mse_train = mean_squared_error(y_train, y_train_pred)\n",
    "mse_test  = mean_squared_error(y_test, y_test_pred)\n",
    "\n",
    "# Calculating R2 Score for train and test data\n",
    "r2_train = r2_score(y_train, y_train_pred)\n",
    "r2_test  = r2_score(y_test, y_test_pred)\n",
    "\n",
    "print('\\n')\n",
    "print(\"Mean Squared Error on train data:\", mse_train)\n",
    "print(\"Mean Squared Error on test data :\", mse_test)\n",
    "print('\\n')\n",
    "print(\"R2 Score on train data:\", r2_train)\n",
    "print(\"R2 Score on test data :\", r2_test)"
   ]
  },
  {
   "cell_type": "code",
   "execution_count": 28,
   "id": "4874f802",
   "metadata": {},
   "outputs": [
    {
     "data": {
      "text/plain": [
       "['gradient_boosting_model.pkl']"
      ]
     },
     "execution_count": 28,
     "metadata": {},
     "output_type": "execute_result"
    }
   ],
   "source": [
    "import joblib\n",
    "joblib.dump(best_model_xgb, 'gradient_boosting_model.pkl')"
   ]
  },
  {
   "cell_type": "code",
   "execution_count": null,
   "id": "b18aec21",
   "metadata": {
    "colab": {
     "base_uri": "https://localhost:8080/"
    },
    "id": "b18aec21",
    "outputId": "8ae6fa3d-6775-486a-91b6-6ad01ba5449d"
   },
   "outputs": [],
   "source": [
    "# 7. Stacking - StackingRegressor\n",
    "\n",
    "# Defining base estimators\n",
    "base_estimators = [ ('rf', RandomForestRegressor()),\n",
    "                    ('lr', LinearRegression())]\n",
    "\n",
    "# Creating StackingRegressor\n",
    "stack_reg = StackingRegressor(estimators=base_estimators,\n",
    "                              final_estimator=LinearRegression())\n",
    "\n",
    "# Creating pipeline\n",
    "pipeline = Pipeline([('preprocessor', preprocessor),  # Preprocessing\n",
    "                     ('model', stack_reg)])\n",
    "\n",
    "# Hyperparameters\n",
    "param_distributions = {\n",
    "    'model__rf__n_estimators': [5, 10, 25, 50],\n",
    "    'model__lr__fit_intercept': [True, False],\n",
    "    'model__final_estimator__fit_intercept': [True, False]\n",
    "    }\n",
    "\n",
    "# Tuning using random search cv\n",
    "random_search = RandomizedSearchCV(pipeline, param_distributions, n_iter=3, cv=2,\n",
    "                                   scoring='neg_mean_squared_error', random_state=42, verbose=2)\n",
    "\n",
    "# Fitting RandomizedSearchCV on training data\n",
    "random_search.fit(X_train, y_train)\n",
    "\n",
    "# Get best model from RandomizedSearchCV\n",
    "best_model_stack = random_search.best_estimator_\n",
    "\n",
    "# Predict on train and test data\n",
    "y_train_pred = best_model_stack.predict(X_train)\n",
    "y_test_pred  = best_model_stack.predict(X_test)\n",
    "\n",
    "# Calculating mean squared error on train and test data\n",
    "mse_train = mean_squared_error(y_train, y_train_pred)\n",
    "mse_test  = mean_squared_error(y_test, y_test_pred)\n",
    "\n",
    "# Calculating R2 Score for train and test data\n",
    "r2_train = r2_score(y_train, y_train_pred)\n",
    "r2_test  = r2_score(y_test, y_test_pred)\n",
    "\n",
    "print('\\n')\n",
    "print(\"Mean Squared Error on train data:\", mse_train)\n",
    "print(\"Mean Squared Error on test data :\", mse_test)\n",
    "print('\\n')\n",
    "print(\"R2 Score on train data:\", r2_train)\n",
    "print(\"R2 Score on test data :\", r2_test)"
   ]
  },
  {
   "cell_type": "markdown",
   "id": "6ab0eb17",
   "metadata": {
    "id": "6ab0eb17"
   },
   "source": [
    "### Modelling 3"
   ]
  },
  {
   "cell_type": "code",
   "execution_count": null,
   "id": "8410d05a",
   "metadata": {
    "id": "8410d05a"
   },
   "outputs": [],
   "source": [
    "pipeline   = Pipeline([('preprocessor', preprocessor)]).fit(X_train)\n",
    "X_train_neural = pipeline.transform(X_train)\n",
    "X_test_neural  = pipeline.transform(X_test)"
   ]
  },
  {
   "cell_type": "code",
   "execution_count": null,
   "id": "0f386968",
   "metadata": {
    "colab": {
     "base_uri": "https://localhost:8080/"
    },
    "id": "0f386968",
    "outputId": "7890ebb2-5b81-46ac-dba8-2539d52e27e7"
   },
   "outputs": [],
   "source": [
    "# 8. Neural Network\n",
    "\n",
    "model = Sequential(name = 'Neural_Network', layers = [\n",
    "    Dense(256, activation='relu', input_shape=(X_train_neural.shape[1],)),\n",
    "    Dense(128, activation='relu'),\n",
    "    Dense(64, activation='relu'),\n",
    "    Dense(32, activation='relu'),\n",
    "    Dense(16, activation='relu'),\n",
    "    Dense(8, activation='relu'),\n",
    "    Dense(1)])\n",
    "\n",
    "model.compile(optimizer='adam',\n",
    "              loss='mean_squared_error',\n",
    "              metrics=[R2Score(name='r2_score')])\n",
    "\n",
    "model.summary(line_length=100,show_trainable=True)"
   ]
  },
  {
   "cell_type": "code",
   "execution_count": null,
   "id": "2e52367b",
   "metadata": {
    "colab": {
     "base_uri": "https://localhost:8080/"
    },
    "id": "2e52367b",
    "outputId": "e22bd0ee-d6f3-417b-fd35-a3fbcb44d935",
    "scrolled": false
   },
   "outputs": [],
   "source": [
    "checkpoint     = ModelCheckpoint('sales_analysis.keras',\n",
    "                                 monitor='val_loss',\n",
    "                                 save_best_only=True, verbose=1)\n",
    "early_stopping = EarlyStopping(monitor='val_loss',\n",
    "                               patience=3, verbose=1)\n",
    "\n",
    "model.fit(X_train_neural, y_train, epochs=60,\n",
    "          validation_data=(X_test_neural, y_test),\n",
    "          callbacks=[checkpoint,early_stopping],verbose=1)"
   ]
  },
  {
   "cell_type": "code",
   "execution_count": null,
   "id": "61d1dab4",
   "metadata": {
    "colab": {
     "base_uri": "https://localhost:8080/",
     "height": 410
    },
    "id": "61d1dab4",
    "outputId": "fe274df8-2d8a-457d-85a1-116eeba458a5"
   },
   "outputs": [],
   "source": [
    "# Plots\n",
    "plt.figure(figsize=(12,4))\n",
    "plt.subplot(1,2,1)\n",
    "plt.plot(model.history.history['r2_score'])\n",
    "plt.plot(model.history.history['val_r2_score'])\n",
    "plt.title('R2 Score')\n",
    "plt.ylabel('R2 Score')\n",
    "plt.xlabel('Epoch')\n",
    "plt.legend(['Train', 'Test'], loc='upper left')\n",
    "\n",
    "plt.subplot(1,2,2)\n",
    "plt.plot(model.history.history['loss'])\n",
    "plt.plot(model.history.history['val_loss'])\n",
    "plt.title('Mean Square Error')\n",
    "plt.ylabel('MSE')\n",
    "plt.xlabel('Epoch')\n",
    "plt.legend(['Train', 'Test'], loc='upper right')\n",
    "plt.show()"
   ]
  },
  {
   "cell_type": "code",
   "execution_count": null,
   "id": "byA1d3RFNgW2",
   "metadata": {
    "colab": {
     "base_uri": "https://localhost:8080/"
    },
    "id": "byA1d3RFNgW2",
    "outputId": "7481f0fe-0db8-4016-e5dd-046121869e28"
   },
   "outputs": [],
   "source": [
    "results = [[\"Linear Regression\", 0.18070367425962827,0.5527850324255663,0.5201655263365914,0.14686006763834503],\n",
    "           [\"Support Vector Regression\", 0.017059450736515765,0.0596024512177904,0.9547009068925629,0.9080126482849705],\n",
    "           [\"K Nearest Neighbors\", 0.013486017147630787,0.10856875061589494,0.9641896825487247,0.8324405851753844],\n",
    "           [\"Decision Tree Regressor\",0.00016906984179206866,0.005167145144832535,0.9995510576147328,0.9920252944620767],\n",
    "           [\"Random Forest Regressor\",3.429926468573535e-05,0.0055894227253175475,0.9999089228833616,0.9913735730055965],\n",
    "           [\"Gradient Boost Regressor\",5.6220922422377285e-05,0.0021110959243645197,0.9998507128489228,0.9967418433414913],\n",
    "           [\"Stacked Regressor\",4.614252599363661e-05,0.005889118529308172,0.9998774746846495,0.9909110379459483],\n",
    "           [\"Neural Network\",0.0120,0.0176,0.9681,0.9729]]\n",
    "\n",
    "print(tabulate(results, headers=[\"Model\",\"Train MSE\", \"Test MSE\", \"Train R2\", \"Test R2\"],\n",
    "               tablefmt=\"grid\"))"
   ]
  },
  {
   "cell_type": "markdown",
   "id": "EMZ_MWYWThm2",
   "metadata": {
    "id": "EMZ_MWYWThm2"
   },
   "source": [
    "Of all the models tried, Gradient Boost Regressor has shown better results which is evident from its MSE and R2 Scores for train and test data."
   ]
  },
  {
   "cell_type": "code",
   "execution_count": null,
   "id": "c48c18d2",
   "metadata": {},
   "outputs": [],
   "source": [
    "import pickle"
   ]
  },
  {
   "cell_type": "code",
   "execution_count": null,
   "id": "d96cfbe6",
   "metadata": {},
   "outputs": [],
   "source": [
    "pickle_out=open('classifier.pkl','wb')\n",
    "pickle.dump(LR, pickle_out)\n",
    "pickle_out.close()"
   ]
  },
  {
   "cell_type": "code",
   "execution_count": null,
   "id": "833ab8f8",
   "metadata": {},
   "outputs": [],
   "source": [
    "import pickle\n",
    "model = pickle.load(open('classifier.pkl','rb'))"
   ]
  },
  {
   "cell_type": "code",
   "execution_count": null,
   "id": "b1b3feb9",
   "metadata": {},
   "outputs": [],
   "source": [
    "model"
   ]
  },
  {
   "cell_type": "code",
   "execution_count": null,
   "id": "9086ff85",
   "metadata": {},
   "outputs": [],
   "source": [
    "model.predict()"
   ]
  },
  {
   "cell_type": "code",
   "execution_count": null,
   "id": "adea021d",
   "metadata": {},
   "outputs": [],
   "source": [
    "%%writefile streamlit-app.py\n",
    "import streamlit as st\n",
    "import pandas as pd\n",
    "import pickle\n",
    "\n",
    "# Load the trained model\n",
    "model = pickle.load(open('classifier.pkl', 'rb'))\n",
    "\n",
    "# Define the function to make predictions\n",
    "def predict_sales(data):\n",
    "    prediction = model.predict(data)\n",
    "    return prediction\n",
    "\n",
    "def main():\n",
    "    st.title('Sales Prediction App')\n",
    "\n",
    "    st.sidebar.header('Input Parameters')\n",
    "\n",
    "    # Collect input from user\n",
    "    year = st.sidebar.number_input('Year', value=2023)\n",
    "    #state = st.sidebar.text_input('State')\n",
    "    #category = st.sidebar.text_input('Category')\n",
    "    dollars = st.sidebar.number_input('Dollars', value=0)\n",
    "    #unit_sales = st.sidebar.number_input('Unit Sales', value=0)\n",
    "    dollars_last_year = st.sidebar.number_input('Dollars Last Year', value=0)\n",
    "    unit_sales_last_year = st.sidebar.number_input('Unit Sales Last Year', value=0)\n",
    "    dollars_3_years_ago = st.sidebar.number_input('Dollars 3 Years Ago', value=0)\n",
    "    unit_sales_3_years_ago = st.sidebar.number_input('Unit Sales 3 Years Ago', value=0)\n",
    "    percent_change_dollars_1_year = st.sidebar.number_input('Percent Change Dollars 1 Year', value=0.0)\n",
    "    percent_change_units_1_year = st.sidebar.number_input('Percent Change Units 1 Year', value=0.0)\n",
    "    percent_change_dollars_3_years = st.sidebar.number_input('Percent Change Dollars 3 Years', value=0.0)\n",
    "    percent_change_units_3_years = st.sidebar.number_input('Percent Change Units 3 Years', value=0.0)\n",
    "\n",
    "    # Create a DataFrame from the user input\n",
    "    input_data = pd.DataFrame({\n",
    "        #'State': [state],\n",
    "        #'Category': [category],\n",
    "        'Dollars': [dollars],\n",
    "        #'Unit sales': [unit_sales],\n",
    "        'Dollars last year': [dollars_last_year],\n",
    "        'Unit sales last year': [unit_sales_last_year],\n",
    "        'Dollars 3 years ago': [dollars_3_years_ago],\n",
    "        'Unit sales 3 years ago': [unit_sales_3_years_ago],\n",
    "        'Percent change dollars 1 year': [percent_change_dollars_1_year],\n",
    "        'Percent change units 1 year': [percent_change_units_1_year],\n",
    "        'Percent change dollars 3 years': [percent_change_dollars_3_years],\n",
    "        'Percent change units 3 years': [percent_change_units_3_years],\n",
    "        'Year': [year]\n",
    "    })\n",
    "\n",
    "    # Make prediction\n",
    "    if st.button('Predict'):\n",
    "        prediction = predict_sales(input_data)\n",
    "        st.success(f'The predicted sales for {year} is {prediction[0]}.')\n",
    "\n",
    "if __name__ == '__main__':\n",
    "    main()\n"
   ]
  },
  {
   "cell_type": "code",
   "execution_count": null,
   "id": "49420f12",
   "metadata": {},
   "outputs": [],
   "source": [
    "X_train.dtypes"
   ]
  },
  {
   "cell_type": "code",
   "execution_count": null,
   "id": "779df390",
   "metadata": {},
   "outputs": [],
   "source": [
    "y_train"
   ]
  },
  {
   "cell_type": "code",
   "execution_count": null,
   "id": "8dd9e287",
   "metadata": {},
   "outputs": [],
   "source": [
    "X_train.columns"
   ]
  },
  {
   "cell_type": "code",
   "execution_count": null,
   "id": "440641e3",
   "metadata": {},
   "outputs": [],
   "source": [
    "X_train['State'] = data['State']"
   ]
  },
  {
   "cell_type": "code",
   "execution_count": null,
   "id": "c9be0f2e",
   "metadata": {},
   "outputs": [],
   "source": [
    "X_train['Category'] = data['Category']"
   ]
  },
  {
   "cell_type": "code",
   "execution_count": null,
   "id": "12e1f85c",
   "metadata": {},
   "outputs": [],
   "source": [
    "import streamlit as st\n",
    "import pandas as pd\n",
    "import matplotlib.pyplot as plt\n",
    "from sklearn.pipeline import Pipeline\n",
    "from sklearn.base import BaseEstimator, TransformerMixin\n",
    "from sklearn.preprocessing import StandardScaler, OneHotEncoder\n",
    "from sklearn.compose import ColumnTransformer\n",
    "from sklearn.impute import SimpleImputer\n",
    "from tensorflow.keras.models import Sequential\n",
    "from tensorflow.keras.layers import Dense\n",
    "from tensorflow.keras.callbacks import ModelCheckpoint, EarlyStopping\n",
    "import joblib\n",
    "\n",
    "# Custom transformer class for integrating neural network model into pipeline\n",
    "class NeuralNetworkTransformer(BaseEstimator, TransformerMixin):\n",
    "    def __init__(self):\n",
    "        self.model = Sequential(name='Neural_Network', layers=[\n",
    "            Dense(256, activation='relu', input_shape=(X_train_neural.shape[1],)),\n",
    "            Dense(128, activation='relu'),\n",
    "            Dense(64, activation='relu'),\n",
    "            Dense(32, activation='relu'),\n",
    "            Dense(16, activation='relu'),\n",
    "            Dense(8, activation='relu'),\n",
    "            Dense(1)\n",
    "        ])\n",
    "        self.model.compile(optimizer='adam',\n",
    "                           loss='mean_squared_error',\n",
    "                           metrics=['mean_squared_error'])\n",
    "\n",
    "    def fit(self, X, y):\n",
    "        # Train the neural network model\n",
    "        checkpoint = ModelCheckpoint('sales_analysis.keras',\n",
    "                                     monitor='val_loss',\n",
    "                                     save_best_only=True,\n",
    "                                     verbose=1)\n",
    "        early_stopping = EarlyStopping(monitor='val_loss',\n",
    "                                       patience=3,\n",
    "                                       verbose=1)\n",
    "        self.history = self.model.fit(X, y, epochs=60,\n",
    "                                      validation_split=0.2,\n",
    "                                      callbacks=[checkpoint, early_stopping],\n",
    "                                      verbose=1)\n",
    "        return self\n",
    "\n",
    "    def transform(self, X):\n",
    "        # Make predictions using the neural network model\n",
    "        predictions = self.model.predict(X)\n",
    "        return predictions\n",
    "\n",
    "# Define preprocessing steps\n",
    "numeric_features = ['Dollars', 'Dollars last year', 'Unit sales last year',\n",
    "                    'Dollars 3 years ago', 'Unit sales 3 years ago',\n",
    "                    'Percent change dollars 1 year', 'Percent change units 1 year',\n",
    "                    'Percent change dollars 3 years', 'Percent change units 3 years']\n",
    "numeric_transformer = Pipeline(steps=[\n",
    "    ('imputer', SimpleImputer(strategy='median')),\n",
    "    ('scaler', StandardScaler())\n",
    "])\n",
    "\n",
    "#categorical_features = ['State', 'Category']\n",
    "#categorical_transformer = Pipeline(steps=[\n",
    "#    ('imputer', SimpleImputer(strategy='constant', fill_value='missing')),\n",
    "#    ('onehot', OneHotEncoder(handle_unknown='ignore'))\n",
    "#])\n",
    "\n",
    "preprocessor = ColumnTransformer(\n",
    "    transformers=[\n",
    "        ('num', numeric_transformer, numeric_features)\n",
    "    ])\n",
    "\n",
    "# Define pipeline\n",
    "pipeline = Pipeline([\n",
    "    ('preprocessor', preprocessor),\n",
    "    ('neural_network', NeuralNetworkTransformer())\n",
    "])\n",
    "\n",
    "# Load or create your dataset\n",
    "# Assuming X_train, X_test, y_train, y_test are defined\n",
    "\n",
    "# Train the pipeline\n",
    "pipeline.fit(X_train, y_train)\n",
    "\n",
    "# Save the pipeline\n",
    "joblib.dump(pipeline, 'sales_pipeline.pkl')\n",
    "\n",
    "# Define Streamlit app\n"
   ]
  },
  {
   "cell_type": "code",
   "execution_count": null,
   "id": "67d6ccd9",
   "metadata": {},
   "outputs": [],
   "source": [
    "def main():\n",
    "    st.title('Sales Prediction App')\n",
    "\n",
    "    # Collect input from user\n",
    "    # (Assuming the same input fields as before)\n",
    "\n",
    "    # Create a DataFrame from the user input\n",
    "    input_data = pd.DataFrame({\n",
    "        # Include user input here\n",
    "    })\n",
    "\n",
    "    # Make prediction when the user clicks the button\n",
    "    if st.button('Predict'):\n",
    "        # Load the saved pipeline\n",
    "        loaded_pipeline = joblib.load('sales_pipeline.pkl')\n",
    "        prediction = loaded_pipeline.predict(input_data)\n",
    "        st.success(f'The predicted sales is {prediction[0]}.')\n",
    "\n",
    "if __name__ == '__main__':\n",
    "    main()\n"
   ]
  },
  {
   "cell_type": "code",
   "execution_count": null,
   "id": "81525da0",
   "metadata": {},
   "outputs": [],
   "source": []
  },
  {
   "cell_type": "code",
   "execution_count": null,
   "id": "912b1e7a",
   "metadata": {},
   "outputs": [],
   "source": []
  },
  {
   "cell_type": "code",
   "execution_count": null,
   "id": "afe1a30c",
   "metadata": {},
   "outputs": [],
   "source": []
  },
  {
   "cell_type": "code",
   "execution_count": 30,
   "id": "b4f4ee6d",
   "metadata": {},
   "outputs": [
    {
     "data": {
      "text/plain": [
       "Index(['Dollars', 'Dollars last year', 'Unit sales last year',\n",
       "       'Dollars 3 years ago', 'Unit sales 3 years ago',\n",
       "       'Percent change dollars 1 year', 'Percent change units 1 year',\n",
       "       'Percent change dollars 3 years', 'Percent change units 3 years'],\n",
       "      dtype='object')"
      ]
     },
     "execution_count": 30,
     "metadata": {},
     "output_type": "execute_result"
    }
   ],
   "source": [
    "X_train.columns"
   ]
  },
  {
   "cell_type": "code",
   "execution_count": 37,
   "id": "cdfae68a",
   "metadata": {},
   "outputs": [
    {
     "name": "stdout",
     "output_type": "stream",
     "text": [
      "Overwriting streamlit-run.py\n"
     ]
    }
   ],
   "source": [
    "%%writefile streamlit-run.py\n",
    "import streamlit as st\n",
    "import pandas as pd\n",
    "import joblib\n",
    "\n",
    "# Load the saved Gradient Boosting model\n",
    "model = joblib.load('gradient_boosting_model.pkl')\n",
    "\n",
    "# Define the function to make predictions\n",
    "def predict_sales(data):\n",
    "    prediction = model.predict(data)\n",
    "    return prediction\n",
    "\n",
    "def main():\n",
    "    st.title('Sales Prediction App')\n",
    "\n",
    "    st.sidebar.header('Input Parameters')\n",
    "\n",
    "    # Collect input from user\n",
    "    year = st.sidebar.number_input('Year', value=2023)\n",
    "    dollars = st.sidebar.number_input('Dollars', value=0)\n",
    "    dollars_last_year = st.sidebar.number_input('Dollars Last Year', value=0)\n",
    "    unit_sales_last_year = st.sidebar.number_input('Unit Sales Last Year', value=0)\n",
    "    dollars_3_years_ago = st.sidebar.number_input('Dollars 3 Years Ago', value=0)\n",
    "    unit_sales_3_years_ago = st.sidebar.number_input('Unit Sales 3 Years Ago', value=0)\n",
    "    percent_change_dollars_1_year = st.sidebar.number_input('Percent Change Dollars 1 Year', value=0.0)\n",
    "    percent_change_units_1_year = st.sidebar.number_input('Percent Change Units 1 Year', value=0.0)\n",
    "    percent_change_dollars_3_years = st.sidebar.number_input('Percent Change Dollars 3 Years', value=0.0)\n",
    "    percent_change_units_3_years = st.sidebar.number_input('Percent Change Units 3 Years', value=0.0)\n",
    "\n",
    "    # Create a DataFrame from the user input\n",
    "    input_data = pd.DataFrame({\n",
    "        'Dollars': [dollars],\n",
    "        'Dollars last year': [dollars_last_year],\n",
    "        'Unit sales last year': [unit_sales_last_year],\n",
    "        'Dollars 3 years ago': [dollars_3_years_ago],\n",
    "        'Unit sales 3 years ago': [unit_sales_3_years_ago],\n",
    "        'Percent change dollars 1 year': [percent_change_dollars_1_year],\n",
    "        'Percent change units 1 year': [percent_change_units_1_year],\n",
    "        'Percent change dollars 3 years': [percent_change_dollars_3_years],\n",
    "        'Percent change units 3 years': [percent_change_units_3_years]\n",
    "    })\n",
    "\n",
    "    # Make prediction\n",
    "    if st.button('Predict'):\n",
    "        prediction = predict_sales(input_data)\n",
    "        st.success(f'The predicted sales for {year} is {prediction[0]}.')\n",
    "\n",
    "if __name__ == '__main__':\n",
    "    main()\n"
   ]
  },
  {
   "cell_type": "code",
   "execution_count": 36,
   "id": "3f850513",
   "metadata": {},
   "outputs": [
    {
     "name": "stdout",
     "output_type": "stream",
     "text": [
      "Overwriting streamlit-run.py\n"
     ]
    }
   ],
   "source": [
    "%%writefile streamlit-run.py\n",
    "import streamlit as st\n",
    "import pandas as pd\n",
    "import joblib\n",
    "from tempfile import NamedTemporaryFile\n",
    "\n",
    "# Load the saved Gradient Boosting model\n",
    "model = joblib.load('gradient_boosting_model.pkl')\n",
    "\n",
    "# Define the function to make predictions\n",
    "def predict_sales(data):\n",
    "    predictions = model.predict(data)\n",
    "    return predictions\n",
    "\n",
    "def main():\n",
    "    st.title('Sales Prediction App')\n",
    "\n",
    "    # Allow user to choose between uploading a file or entering input fields\n",
    "    option = st.radio('Select input method:', ('Upload a file', 'Enter input fields'))\n",
    "\n",
    "    if option == 'Upload a file':\n",
    "        uploaded_file = st.file_uploader('Upload a CSV file', type=['xlsx','csv'])\n",
    "\n",
    "        if uploaded_file is not None:\n",
    "            # Read the uploaded CSV file\n",
    "            if uploaded_file.name.endswith('csv'):\n",
    "                df = pd.read_csv(uploaded_file)\n",
    "            elif uploaded_file.name.endswith('xlsx'):\n",
    "                df = pd.read_excel(uploaded_file)\n",
    "\n",
    "            # Select only the required fields for prediction\n",
    "            input_data = df[['Dollars', 'Dollars last year', 'Unit sales last year',\n",
    "                             'Dollars 3 years ago', 'Unit sales 3 years ago',\n",
    "                             'Percent change dollars 1 year', 'Percent change units 1 year',\n",
    "                             'Percent change dollars 3 years', 'Percent change units 3 years'\n",
    "                             ]]\n",
    "\n",
    "            # Make predictions\n",
    "            predictions = predict_sales(input_data)\n",
    "\n",
    "            # Add predictions as a new column to the DataFrame\n",
    "            df['Predicted Sales'] = predictions\n",
    "\n",
    "            # Allow user to download the modified DataFrame\n",
    "            st.download_button(label='Download Predictions', data=df.to_csv(index=False), file_name='predictions.csv',\n",
    "                               mime='text/csv')\n",
    "\n",
    "    elif option == 'Enter input fields':\n",
    "        # Collect input from user\n",
    "        dollars = st.number_input('Dollars', value=0)\n",
    "        dollars_last_year = st.number_input('Dollars Last Year', value=0)\n",
    "        unit_sales_last_year = st.number_input('Unit Sales Last Year', value=0)\n",
    "        dollars_3_years_ago = st.number_input('Dollars 3 Years Ago', value=0)\n",
    "        unit_sales_3_years_ago = st.number_input('Unit Sales 3 Years Ago', value=0)\n",
    "        percent_change_dollars_1_year = st.number_input('Percent Change Dollars 1 Year', value=0.0)\n",
    "        percent_change_units_1_year = st.number_input('Percent Change Units 1 Year', value=0.0)\n",
    "        percent_change_dollars_3_years = st.number_input('Percent Change Dollars 3 Years', value=0.0)\n",
    "        percent_change_units_3_years = st.number_input('Percent Change Units 3 Years', value=0.0)\n",
    "        year = st.number_input('Year', value=2023)\n",
    "\n",
    "        # Create a DataFrame with the user input\n",
    "        input_data = pd.DataFrame({\n",
    "            'Dollars': [dollars],\n",
    "            'Dollars last year': [dollars_last_year],\n",
    "            'Unit sales last year': [unit_sales_last_year],\n",
    "            'Dollars 3 years ago': [dollars_3_years_ago],\n",
    "            'Unit sales 3 years ago': [unit_sales_3_years_ago],\n",
    "            'Percent change dollars 1 year': [percent_change_dollars_1_year],\n",
    "            'Percent change units 1 year': [percent_change_units_1_year],\n",
    "            'Percent change dollars 3 years': [percent_change_dollars_3_years],\n",
    "            'Percent change units 3 years': [percent_change_units_3_years]\n",
    "        })\n",
    "\n",
    "        # Make prediction when the user clicks the button\n",
    "        if st.button('Predict'):\n",
    "            # Make predictions\n",
    "            predictions = predict_sales(input_data)\n",
    "\n",
    "            # Display predictions\n",
    "            st.success(f'The predicted sales for {year} is {predictions[0]}.')\n",
    "\n",
    "if __name__ == '__main__':\n",
    "    main()\n"
   ]
  },
  {
   "cell_type": "code",
   "execution_count": null,
   "id": "a0f65939",
   "metadata": {},
   "outputs": [],
   "source": []
  }
 ],
 "metadata": {
  "accelerator": "GPU",
  "colab": {
   "gpuType": "T4",
   "provenance": []
  },
  "kernelspec": {
   "display_name": "Python 3 (ipykernel)",
   "language": "python",
   "name": "python3"
  },
  "language_info": {
   "codemirror_mode": {
    "name": "ipython",
    "version": 3
   },
   "file_extension": ".py",
   "mimetype": "text/x-python",
   "name": "python",
   "nbconvert_exporter": "python",
   "pygments_lexer": "ipython3",
   "version": "3.10.13"
  }
 },
 "nbformat": 4,
 "nbformat_minor": 5
}
